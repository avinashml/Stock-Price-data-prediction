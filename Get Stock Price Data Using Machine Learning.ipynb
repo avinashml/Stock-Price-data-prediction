{
 "cells": [
  {
   "cell_type": "code",
   "execution_count": 1,
   "id": "0b5c50a2",
   "metadata": {},
   "outputs": [
    {
     "name": "stdout",
     "output_type": "stream",
     "text": [
      "                  Open        High         Low       Close   Adj Close  \\\n",
      "Date                                                                     \n",
      "2021-03-25  119.540001  121.660004  119.000000  120.589996  119.877502   \n",
      "2021-03-26  120.349998  121.480003  118.919998  121.209999  120.493843   \n",
      "2021-03-29  121.650002  122.580002  120.730003  121.389999  120.672775   \n",
      "2021-03-30  120.110001  120.400002  118.860001  119.900002  119.191582   \n",
      "2021-03-31  121.650002  123.519997  121.150002  122.150002  121.428284   \n",
      "\n",
      "               Volume  \n",
      "Date                   \n",
      "2021-03-25   98844700  \n",
      "2021-03-26   94071200  \n",
      "2021-03-29   80819200  \n",
      "2021-03-30   85671900  \n",
      "2021-03-31  118323800  \n"
     ]
    }
   ],
   "source": [
    "import pandas as pd\n",
    "import yfinance as yf\n",
    "import datetime\n",
    "from datetime import date, timedelta\n",
    "today = date.today()\n",
    "\n",
    "d1 = today.strftime(\"%Y-%m-%d\")\n",
    "end_date = d1\n",
    "d2 = date.today() - timedelta(days=360)\n",
    "d2 = d2.strftime(\"%Y-%m-%d\")\n",
    "start_date = d2\n",
    "\n",
    "data = yf.download('AAPL', start=start_date, end=end_date, progress=False)\n",
    "print(data.head())"
   ]
  },
  {
   "cell_type": "code",
   "execution_count": 2,
   "id": "33877b0c",
   "metadata": {},
   "outputs": [
    {
     "name": "stdout",
     "output_type": "stream",
     "text": [
      "        Date        Open        High         Low       Close   Adj Close  \\\n",
      "0 2021-03-25  119.540001  121.660004  119.000000  120.589996  119.877502   \n",
      "1 2021-03-26  120.349998  121.480003  118.919998  121.209999  120.493843   \n",
      "2 2021-03-29  121.650002  122.580002  120.730003  121.389999  120.672775   \n",
      "3 2021-03-30  120.110001  120.400002  118.860001  119.900002  119.191582   \n",
      "4 2021-03-31  121.650002  123.519997  121.150002  122.150002  121.428284   \n",
      "\n",
      "      Volume  \n",
      "0   98844700  \n",
      "1   94071200  \n",
      "2   80819200  \n",
      "3   85671900  \n",
      "4  118323800  \n"
     ]
    }
   ],
   "source": [
    "data[\"Date\"] = data.index\n",
    "data = data[[\"Date\", \"Open\", \"High\", \n",
    "             \"Low\", \"Close\", \"Adj Close\", \"Volume\"]]\n",
    "data.reset_index(drop=True, inplace=True)\n",
    "print(data.head())"
   ]
  },
  {
   "cell_type": "code",
   "execution_count": null,
   "id": "64751f64",
   "metadata": {},
   "outputs": [],
   "source": []
  }
 ],
 "metadata": {
  "kernelspec": {
   "display_name": "Python 3 (ipykernel)",
   "language": "python",
   "name": "python3"
  },
  "language_info": {
   "codemirror_mode": {
    "name": "ipython",
    "version": 3
   },
   "file_extension": ".py",
   "mimetype": "text/x-python",
   "name": "python",
   "nbconvert_exporter": "python",
   "pygments_lexer": "ipython3",
   "version": "3.9.7"
  }
 },
 "nbformat": 4,
 "nbformat_minor": 5
}
